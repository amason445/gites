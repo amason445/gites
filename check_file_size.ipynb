{
 "cells": [
  {
   "cell_type": "code",
   "execution_count": 1,
   "metadata": {},
   "outputs": [],
   "source": [
    "import os\n",
    "import util"
   ]
  },
  {
   "cell_type": "code",
   "execution_count": 2,
   "metadata": {},
   "outputs": [
    {
     "name": "stdout",
     "output_type": "stream",
     "text": [
      "cuda-samples\\.git\\objects\\pack\\pack-d3e9ac299dbdc83d62100c838465e6a50b21f79b.pack\n",
      "Python coding gym\\$$Stanford Artificial Intelligence Stream\\machine learning with graph\\CS224W-Colab-main\\CS224W-Colab-main\\dataset\\ogbg_molhiv\\processed\\geometric_data_processed.pt\n",
      "Python coding gym\\$$Stanford Artificial Intelligence Stream\\machine learning with graph\\CS224W-Colab-main\\CS224W-Colab-main\\dataset\\ogbn_arxiv\\processed\\geometric_data_processed.pt\n",
      "Python coding gym\\.git\\objects\\74\\805ac1fe007a6020a6d9ecab4e4beb205e9be1\n",
      "Python coding gym\\.git\\objects\\pack\\pack-8c77f37312ae448fd531735f899d4555ba08af6e.pack\n",
      "Textual notes\\.git\\objects\\pack\\pack-d265e3c96677842786c918fe1951d139145ddf5c.pack\n",
      "Video materials\\.git\\objects\\10\\0d50bf3fd3f6ea07e7b84fb7e501a597bed0e1\n",
      "Video materials\\.git\\objects\\78\\f36be2886c88729a514c4bd4b42bfd08f56bf8\n",
      "Video materials\\.git\\objects\\92\\8a889b690a7c8afed0ce7ec5e769ce4d276d03\n"
     ]
    }
   ],
   "source": [
    "if __name__ == \"__main__\":\n",
    "    folder_path = r\"D:\\All_programming_projects\"  # Replace this with the path to your folder\n",
    "    files_bigger_than_100mb = util.get_files_bigger_than_100mb(folder_path)\n",
    "    for file_path in files_bigger_than_100mb:\n",
    "        print(file_path)"
   ]
  }
 ],
 "metadata": {
  "kernelspec": {
   "display_name": "Python 3",
   "language": "python",
   "name": "python3"
  },
  "language_info": {
   "codemirror_mode": {
    "name": "ipython",
    "version": 3
   },
   "file_extension": ".py",
   "mimetype": "text/x-python",
   "name": "python",
   "nbconvert_exporter": "python",
   "pygments_lexer": "ipython3",
   "version": "3.10.4"
  },
  "orig_nbformat": 4
 },
 "nbformat": 4,
 "nbformat_minor": 2
}
